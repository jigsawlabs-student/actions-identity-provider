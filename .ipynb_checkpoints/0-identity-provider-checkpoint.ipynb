{
 "cells": [
  {
   "cell_type": "markdown",
   "id": "5d786f97-ee3a-456f-9d95-9a6cac0210a9",
   "metadata": {},
   "source": [
    "# CI CD with AWS"
   ]
  },
  {
   "cell_type": "markdown",
   "id": "18ca555f-e0f2-4032-b43b-e6777c82c2ee",
   "metadata": {},
   "source": [
    "### Introduction"
   ]
  },
  {
   "cell_type": "markdown",
   "id": "8682f001-1a0a-41e8-82c5-bf304c6a20b2",
   "metadata": {},
   "source": [
    "In this lesson, we'll see how we can begin use github actions to redeploy our code on AWS.  And we'll do so with terraform.  Let's get started."
   ]
  },
  {
   "cell_type": "markdown",
   "id": "7bbd7634-f541-41a2-8362-37ebf0b9b114",
   "metadata": {},
   "source": [
    "### Creating a Role"
   ]
  },
  {
   "cell_type": "markdown",
   "id": "6431ec0a-2681-4b54-8591-abdb0c47e124",
   "metadata": {},
   "source": [
    "Now the way that we'll give Github the ability to interact with our AWS services is to create a Role.  As we know, a role is like a keycard that has permissions -- and we can give this keycard to AWS resources like an EC2 machine.  It turns out that we can also allow a Github repository to assume an AWS role.  And that's how we can give our repository the ability to interact with our AWS resources.\n",
    "\n",
    "In this next section we'll see how we can do this."
   ]
  },
  {
   "cell_type": "markdown",
   "id": "26c24e53-dd23-46e6-90b3-9f743e02ba51",
   "metadata": {},
   "source": [
    "#### 1. Creating an Identity Provider"
   ]
  },
  {
   "cell_type": "markdown",
   "id": "e90535b4-35d0-45ae-b816-6d2c8fd89b89",
   "metadata": {},
   "source": [
    "Ok, so because we want to allow our Github account to access an AWS role, the first step is to create an identity provider.  An identity provider is an AWS service that establishes trust between your AWS account and an external identity system -- here the login for Github. \n",
    "\n",
    "Ok, so to create an identity provider, login to AWS and go to `IAM` > `Identity Providers`."
   ]
  },
  {
   "cell_type": "markdown",
   "id": "78992b55-0aa8-49b6-858c-a7ad5f0ca896",
   "metadata": {},
   "source": [
    "<img src=\"./identity-click.png\" width=\"30%\">"
   ]
  },
  {
   "cell_type": "markdown",
   "id": "6f5d2761-fd79-44f1-b3ae-4423df4bcecd",
   "metadata": {},
   "source": [
    "From there click the orange button `Add Provider`, and then select `OpenID Connect`."
   ]
  },
  {
   "cell_type": "markdown",
   "id": "979ad0e5-4abc-45d8-9b6d-7c1a8ecb7b8e",
   "metadata": {},
   "source": [
    "<img src=\"./openid-connect.png\" width=\"60%\">"
   ]
  },
  {
   "cell_type": "markdown",
   "id": "7c9b6031-7d81-4740-b5bc-a7f012e4d2c9",
   "metadata": {},
   "source": [
    "At this point, you'll be asked to add a few pieces of information."
   ]
  },
  {
   "cell_type": "markdown",
   "id": "94b2165e-5eac-464c-81f8-bd850df04284",
   "metadata": {},
   "source": [
    "2. Ok, so next we specify the identity provider and the Audience.  Fill in the following values."
   ]
  },
  {
   "cell_type": "markdown",
   "id": "74eacac4-95ec-45c8-a605-473e7de6e87c",
   "metadata": {},
   "source": [
    "* Provider Url: `https://token.actions.githubusercontent.com`\n",
    "* Audience: `sts.amazonaws.com`\n",
    "\n",
    "> This information is to allow AWS to authenticate Github to use it's service.  It will need to make an API request to Github's tokens url (the provider url), and then github will need to provide back information to the AWS secure token service (sts), to get the token to login."
   ]
  },
  {
   "cell_type": "markdown",
   "id": "2c96db08-26e2-4186-944d-526eeb1c13a0",
   "metadata": {},
   "source": [
    "* Click get thumbprint.\n",
    "\n",
    "And then click `Add Provider`."
   ]
  },
  {
   "cell_type": "markdown",
   "id": "40fe9127-68b2-4c92-9d92-cb6b193f3376",
   "metadata": {},
   "source": [
    "#### 2. Creating a new role\n"
   ]
  },
  {
   "cell_type": "markdown",
   "id": "ccfeba22-8fea-4527-9e19-56c8f6c4c4ad",
   "metadata": {},
   "source": [
    "Ok, so we just created a provider, and that provider tells AWS how to interact with Github -- where to request authentication information, and how Github should send back that information to AWS.  Next up is to create a role that will use that identity provider to grant access to our Github."
   ]
  },
  {
   "cell_type": "markdown",
   "id": "5385ea09-5d69-4385-b706-5a34f660882f",
   "metadata": {},
   "source": [
    "* Go to `Access Management > Roles > Create Role`\n"
   ]
  },
  {
   "cell_type": "markdown",
   "id": "cf28b324-4466-47de-87fa-3b083ee072e3",
   "metadata": {},
   "source": [
    "<img src=\"./actions-deploy.png\" width=\"60%\">"
   ]
  },
  {
   "cell_type": "markdown",
   "id": "3df9a597-c7cb-48b0-bf02-25f732f322a4",
   "metadata": {},
   "source": [
    "1. Then among the panels above, you can select `Web Identity`. \n",
    "\n",
    "Notice the description.  It says that Web Identity allows users *federated* by the external web identity provider to assume this role. \n",
    "\n",
    "By federated, it means that an external user (eg. github) can assume a role in this account.  \n",
    "\n",
    "> So just like in government federated means different localities operating under a centralized system, here we are allowing different external providers to operate under our single AWS account, as opposed to each getting their own AWS account. "
   ]
  },
  {
   "cell_type": "markdown",
   "id": "da711ed5-c06b-47eb-8adc-125f40aa448c",
   "metadata": {},
   "source": [
    "2. Select the Identity Provider and Audience\n",
    "* For Identity Provider, select the `token.actions.githubusercontent.com`\n",
    "* For Audience, select `sts.amazonaws.com`"
   ]
  },
  {
   "cell_type": "markdown",
   "id": "ba85215b-fda9-4c7a-8130-86aba11a1ac1",
   "metadata": {},
   "source": [
    "3. From there, specify:\n",
    "    * **Your** github account, and\n",
    "    * The github repository you want to integrate your github actions with."
   ]
  },
  {
   "cell_type": "markdown",
   "id": "f3601b6c-8876-4686-81b5-bd62c7d2a29e",
   "metadata": {},
   "source": [
    "4. Then click `Add Provider`"
   ]
  },
  {
   "cell_type": "markdown",
   "id": "aa7df70f-f2a5-426d-8e06-69ed672b4992",
   "metadata": {},
   "source": [
    "From there, we'll need to grant a certain level of access.  For now, we can select `Admin Access`.\n",
    "\n",
    "> Once this is working, it's a good idea to pair down the access to just what is needed (here mainly ECR and EC2 access).  This ie because you the **principle of least priviledge** says that you want to grant as little access to others (almost like everyone is on a need to know basis)."
   ]
  },
  {
   "cell_type": "markdown",
   "id": "e1bf63d0-b2aa-4c32-a9dc-6d60c56358ee",
   "metadata": {},
   "source": [
    "After clicking `Add Provider`, you'll see that the following is generated Assume Role policy was generated (just with your github account and repo information)."
   ]
  },
  {
   "cell_type": "markdown",
   "id": "f9bbde84-d1d5-4fe0-a6a0-ecb040c3c820",
   "metadata": {},
   "source": [
    "```bash\n",
    "{\n",
    "    \"Version\": \"2012-10-17\",\n",
    "    \"Statement\": [\n",
    "        {\n",
    "            \"Effect\": \"Allow\",\n",
    "            \"Action\": \"sts:AssumeRoleWithWebIdentity\",\n",
    "            \"Principal\": {\n",
    "                \"Federated\": \"arn:aws:iam::****:oidc-provider/token.actions.githubusercontent.com\"\n",
    "            },\n",
    "            \"Condition\": {\n",
    "                \"StringEquals\": {\n",
    "                    \"token.actions.githubusercontent.com:aud\": [\n",
    "                        \"sts.amazonaws.com\"\n",
    "                    ]\n",
    "                },\n",
    "                \"StringLike\": {\n",
    "                    \"token.actions.githubusercontent.com:sub\": [\n",
    "                        \"repo:jigsawlabs-student/actions-deploy:*\"\n",
    "                    ]\n",
    "                }\n",
    "            }\n",
    "        }\n",
    "    ]\n",
    "}\n",
    "```"
   ]
  },
  {
   "cell_type": "markdown",
   "id": "87df056e-c056-455f-bfb8-5ad2ce0862ef",
   "metadata": {},
   "source": [
    "Let's take a moment to understand the policy generated above:\n",
    "\n",
    "* The action is to allow githubusercontent the action of `sts:AssumeRoleWithWebIdentity`.  So this means that the secure token service can submit a token to github, granting the ability to assume the role we created.\n",
    "\n",
    "* The Principal specifies only github can assume this role.\n",
    "* The last `StringEquals` Condition confirms that the audience Github Actions is sending it's request to, is to the `sts` (secure token service).\n",
    "* The `StringLike`: This ensures the github token is issued for a specific token.  The `*` in `actions-deploy:*` means that any branch in the `actions-deploy` repository can request the token from AWS."
   ]
  },
  {
   "cell_type": "markdown",
   "id": "9fdafee0-937d-4076-ba91-741fd22cb4f9",
   "metadata": {},
   "source": [
    "Then give the role a name, like `github-actions-deploy` and click `Create Role`.  "
   ]
  },
  {
   "cell_type": "markdown",
   "id": "a73d6b2d-bf56-492a-ad67-a3aa82b67700",
   "metadata": {},
   "source": [
    "### Update Action"
   ]
  },
  {
   "cell_type": "markdown",
   "id": "7bb0ee27-287c-493a-ba2b-a444ed99a8c5",
   "metadata": {},
   "source": [
    "Ok, so we just created the role, and we know that github will make a request to assume that role.  Because AWS has an assume role policy that allows our account and repository to assume the role, our repository will (hopefully) be successful.\n",
    "\n",
    "So what's next is we'll want our Github action to request to assume the role.  To set this up, we'll first need to find that role's ARN.  So click on `IAM` > `Roles`, and search for the role that you just created.\n",
    "\n",
    "Then, after finding the role you just created, click on it, and to the right you'll see the ARN.  We'll use that next."
   ]
  },
  {
   "cell_type": "markdown",
   "id": "e1f8959a-7aaf-4f00-bc8e-9b7341fa7d37",
   "metadata": {},
   "source": [
    "<img src=\"./arn-actions.png\" width=\"50%\">"
   ]
  },
  {
   "cell_type": "markdown",
   "id": "b1d148ae-c390-4230-a8d8-e3ac843b1903",
   "metadata": {},
   "source": [
    "We want to add our that role's ARN as a secret.  So to do that, go to your github repository for the action.  And click on `Settings` > `Secrets and variables`."
   ]
  },
  {
   "cell_type": "markdown",
   "id": "f7fc94ad-294e-4993-b5eb-648e210df9b8",
   "metadata": {},
   "source": [
    "<img src=\"./settings-secrets-ci.png\" width=\"30%\">"
   ]
  },
  {
   "cell_type": "markdown",
   "id": "21e94dd7-cf18-4178-a987-102d737099e3",
   "metadata": {},
   "source": [
    "From there, click on `New Repository Secret`."
   ]
  },
  {
   "cell_type": "markdown",
   "id": "733047d4-075f-4bd7-a3ee-bb0556c7d64d",
   "metadata": {},
   "source": [
    "<img src=\"./new-repo-secret.png\" width=\"60%\">"
   ]
  },
  {
   "cell_type": "markdown",
   "id": "625bb09a-432b-4c36-92eb-d7b9f9df039a",
   "metadata": {},
   "source": [
    "And give it a Name of `IAM_ROLE`, and a value of your AWS arn."
   ]
  },
  {
   "cell_type": "markdown",
   "id": "fc0df416-b676-4e14-a76c-7912977bd37d",
   "metadata": {},
   "source": [
    "### Logging in with AWS"
   ]
  },
  {
   "cell_type": "markdown",
   "id": "fb61a67b-d26a-4afb-9c5e-41380c5c4d39",
   "metadata": {},
   "source": [
    "Ok, so next let's login with AWS.  If you look at the repository, you'll see the key step:\n",
    "\n",
    "```bash\n",
    "- name: Configure AWS credentials\n",
    "      uses: aws-actions/configure-aws-credentials@v4\n",
    "      with:\n",
    "        role-to-assume: ${{ secrets.IAM_ROLE }}\n",
    "        role-session-name: AWSSession\n",
    "        aws-region: us-east-1\n",
    "```"
   ]
  },
  {
   "cell_type": "markdown",
   "id": "985e4a47-75ad-48ed-99bc-c812a51f26ea",
   "metadata": {},
   "source": [
    "Here, we use the aws-actions/configure-aws-credentials step, defined [here](https://github.com/aws-actions/configure-aws-credentials).  And for the role to assume, we use our `IAM_ROLE` declared in SQL.  And then we add the `role-session-name` as AWSSession and the aws-region as our region (for me it's us-east-1).\n",
    "\n",
    "The other step we need is adding the permission key up top:\n",
    "\n",
    "```bash\n",
    "permissions:\n",
    "        id-token: write # This is required for requesting the JWT  \n",
    "        contents: read\n",
    "```"
   ]
  },
  {
   "cell_type": "markdown",
   "id": "eb6faf49-c97b-4b0a-8591-4863ed2a4146",
   "metadata": {},
   "source": [
    "And if you care..."
   ]
  },
  {
   "cell_type": "markdown",
   "id": "b0c0f207-34c3-4b4c-a7a9-971ce07efd3e",
   "metadata": {},
   "source": [
    "* `id-token`: `write` grants the workflow permission to request an OpenID Connect (OIDC) ID token.\n",
    "The ID token is a JWT (JSON Web Token) that can be used to authenticate the GitHub Actions runner with external services that support OIDC (Open Identity), such as AWS.\n",
    "\n",
    "* `contents: read` - This allows reading the contents of your github repository, as is performed in `actions/checkout`.  If you choose not put this in, your code should still work -- but [the documentation](https://docs.github.com/en/actions/deployment/security-hardening-your-deployments/configuring-openid-connect-in-amazon-web-services#adding-permissions-settings) recommends including, so let's do that."
   ]
  },
  {
   "cell_type": "markdown",
   "id": "1aacb697-8562-4592-838b-53ad9a46ba47",
   "metadata": {},
   "source": [
    "You can see that for the last step, we see if we can use our credentials to log in to ECR."
   ]
  },
  {
   "cell_type": "markdown",
   "id": "3435debd-8a04-4e68-81bb-db679e1e3cf5",
   "metadata": {},
   "source": [
    "Ok, that should be it."
   ]
  },
  {
   "cell_type": "markdown",
   "id": "9e45fa08-7509-4ced-bf8c-2d1a39733225",
   "metadata": {},
   "source": [
    "* Try it out"
   ]
  },
  {
   "cell_type": "markdown",
   "id": "ae042636-229b-4bc6-8b64-c639c16169c0",
   "metadata": {},
   "source": [
    "So now let's try it out.  Navigate to the `web_app` folder, and push up this code to the repository you have set up in Github.  Then make a commit and push up the main branch.\n",
    "\n",
    "Finally, click on `Actions`, and then your most recent workflow run.  If it turns green, and you have all checkmarks, then these steps worked properly."
   ]
  },
  {
   "cell_type": "markdown",
   "id": "5600b2d1-a480-4be2-bc41-0b8a218dd488",
   "metadata": {},
   "source": [
    "<img src=\"./actions-initial.png\" width=\"50%\">"
   ]
  },
  {
   "cell_type": "markdown",
   "id": "5d4fad9d-f276-4cc3-b0ef-6fc25c342753",
   "metadata": {},
   "source": [
    "### Recap"
   ]
  },
  {
   "cell_type": "markdown",
   "id": "38d761e1-fc81-42c4-b798-5facdcd15f81",
   "metadata": {},
   "source": [
    "In this lesson, we created an identity provider and a role.  One common question is, why do we need to build both?  The short answer is because the identity provider allows for *authentication* while the role is for *authorization*.\n",
    "\n",
    "* Authentication - By authentication we mean logging you in.  In this case, the identity provider allows you to use your login to Github to login to AWS.  \n",
    "* Authorization - The role says what you are authorized to do.  By authorization we mean, once we know who you are, what capabilities do you have.  Above, we created a role that has an assume role policy for our identity provider and that has admin access."
   ]
  },
  {
   "cell_type": "markdown",
   "id": "fcab524d-ac1a-4c47-8950-dfe41fac6668",
   "metadata": {},
   "source": [
    "### Resources\n",
    "\n",
    "[Github docs - AWS deployments](https://docs.github.com/en/actions/deployment/security-hardening-your-deployments/configuring-openid-connect-in-amazon-web-services#adding-the-identity-provider-to-aws)"
   ]
  },
  {
   "cell_type": "markdown",
   "id": "df067eb7-428f-4b2d-8991-36be76308fbb",
   "metadata": {},
   "source": [
    "[Skund Notes - Github Actions AWS](https://skundunotes.com/2023/02/28/securely-integrate-aws-credentials-with-github-actions-using-openid-connect/)"
   ]
  },
  {
   "cell_type": "markdown",
   "id": "6731324c-d6da-4117-83ec-07d0c75c3524",
   "metadata": {},
   "source": [
    "[Skund Notes - Github Actions TF](https://skundunotes.com/2023/03/07/ci-cd-with-terraform-and-github-actions-to-deploy-to-aws/)"
   ]
  }
 ],
 "metadata": {
  "kernelspec": {
   "display_name": "Python 3 (ipykernel)",
   "language": "python",
   "name": "python3"
  },
  "language_info": {
   "codemirror_mode": {
    "name": "ipython",
    "version": 3
   },
   "file_extension": ".py",
   "mimetype": "text/x-python",
   "name": "python",
   "nbconvert_exporter": "python",
   "pygments_lexer": "ipython3",
   "version": "3.10.14"
  }
 },
 "nbformat": 4,
 "nbformat_minor": 5
}
